{
 "cells": [
  {
   "cell_type": "code",
   "execution_count": 172,
   "metadata": {},
   "outputs": [
    {
     "name": "stdin",
     "output_type": "stream",
     "text": [
      "Please provide first page to split from PDF file.  \n",
      "Please provide last page to split from PDF file.  \n"
     ]
    },
    {
     "name": "stdout",
     "output_type": "stream",
     "text": [
      "[0, 3]\n"
     ]
    }
   ],
   "source": [
    "# %%writefile pdf_slices_splitter.py\n",
    "\n",
    "# pdf_slices_splitter.py\n",
    "\n",
    "from PyPDF2 import PdfFileWriter, PdfFileReader\n",
    "\n",
    "# PyPDF2.PageRange() ... already available\n",
    "\n",
    "def pdf_slices_splitter(inputpdf, slice_list):\n",
    "        \n",
    "    if len(slice_list) < 2 :\n",
    "        slice_list = [0, max(range(inputpdf.numPages))]\n",
    "    \n",
    "    print(slice_list)\n",
    "    \n",
    "    for i in range(inputpdf.numPages):\n",
    "        if (i >= slice_list[0]) & (i <= slice_list[-1]):\n",
    "            output = PdfFileWriter()\n",
    "            output.addPage(inputpdf.getPage(i))\n",
    "            with open(\"document-page%s.pdf\" % i, \"wb\") as outputStream:\n",
    "                output.write(outputStream)         \n",
    "\n",
    "if __name__ == '__main__':  \n",
    "    inputpdf = PdfFileReader(open(\"Deuren_nl_kozijn.pdf\", \"rb\"))\n",
    "    slice_list = [0,range(inputpdf.numPages)]\n",
    "\n",
    "    try:\n",
    "        start_page_num=int(input(prompt='Please provide first page to split from PDF file. '))\n",
    "\n",
    "        if start_page_num<1:\n",
    "            start_page_num=0\n",
    "    except: \n",
    "        start_page_num=0\n",
    "    \n",
    "    try:\n",
    "        end_page_num=int(input(prompt='Please provide last page to split from PDF file. '))\n",
    "\n",
    "        slice_list=[start_page_num, end_page_num]\n",
    "\n",
    "    except: \n",
    "        slice_list=[start_page_num]\n",
    "\n",
    "    \n",
    "    pdf_slices_splitter(inputpdf, slice_list)\n",
    "                        \n",
    "\n"
   ]
  },
  {
   "cell_type": "code",
   "execution_count": null,
   "metadata": {},
   "outputs": [],
   "source": []
  },
  {
   "cell_type": "code",
   "execution_count": null,
   "metadata": {},
   "outputs": [],
   "source": []
  }
 ],
 "metadata": {
  "kernelspec": {
   "display_name": "Python 3",
   "language": "python",
   "name": "python3"
  },
  "language_info": {
   "codemirror_mode": {
    "name": "ipython",
    "version": 3
   },
   "file_extension": ".py",
   "mimetype": "text/x-python",
   "name": "python",
   "nbconvert_exporter": "python",
   "pygments_lexer": "ipython3",
   "version": "3.7.3"
  }
 },
 "nbformat": 4,
 "nbformat_minor": 2
}
