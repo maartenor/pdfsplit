{
 "cells": [
  {
   "cell_type": "code",
   "execution_count": 18,
   "metadata": {},
   "outputs": [
    {
     "name": "stdout",
     "output_type": "stream",
     "text": [
      "Overwriting pdf_merger.py\n"
     ]
    }
   ],
   "source": [
    "%%writefile pdf_merger.py\n",
    "\n",
    "# pdf_merger.py\n",
    "import glob\n",
    "from PyPDF2 import PdfFileWriter, PdfFileReader\n",
    "def merger(output_path, input_paths):\n",
    "    pdf_writer = PdfFileWriter()\n",
    "    for path in input_paths:\n",
    "        pdf_reader = PdfFileReader(path)\n",
    "        for page in range(pdf_reader.getNumPages()):\n",
    "            pdf_writer.addPage(pdf_reader.getPage(page))\n",
    "    with open(output_path, 'wb') as fh:\n",
    "        pdf_writer.write(fh)\n",
    "if __name__ == '__main__':\n",
    "    paths = glob.glob('DeGoedk*_page*.pdf')\n",
    "    paths.sort()\n",
    "    merger('pdf_merger.pdf', paths)"
   ]
  },
  {
   "cell_type": "code",
   "execution_count": 17,
   "metadata": {},
   "outputs": [
    {
     "data": {
      "text/plain": [
       "['DeGoedkoopsteDeuren_nl_kozijn_page_1.pdf',\n",
       " 'DeGoedkoopsteDeuren_nl_kozijn_page_2.pdf',\n",
       " 'DeGoedkoopsteDeuren_nl_kozijn_page_3.pdf',\n",
       " 'DeGoedkoopsteDeuren_nl_kozijn_page_4.pdf']"
      ]
     },
     "execution_count": 17,
     "metadata": {},
     "output_type": "execute_result"
    }
   ],
   "source": [
    "paths"
   ]
  },
  {
   "cell_type": "code",
   "execution_count": null,
   "metadata": {},
   "outputs": [],
   "source": []
  }
 ],
 "metadata": {
  "kernelspec": {
   "display_name": "Python 3",
   "language": "python",
   "name": "python3"
  },
  "language_info": {
   "codemirror_mode": {
    "name": "ipython",
    "version": 3
   },
   "file_extension": ".py",
   "mimetype": "text/x-python",
   "name": "python",
   "nbconvert_exporter": "python",
   "pygments_lexer": "ipython3",
   "version": "3.7.3"
  }
 },
 "nbformat": 4,
 "nbformat_minor": 2
}
